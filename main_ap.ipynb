{
  "nbformat": 4,
  "nbformat_minor": 0,
  "metadata": {
    "kernelspec": {
      "display_name": "Python 3",
      "language": "python",
      "name": "python3"
    },
    "language_info": {
      "codemirror_mode": {
        "name": "ipython",
        "version": 2
      },
      "file_extension": ".py",
      "mimetype": "text/x-python",
      "name": "python",
      "nbconvert_exporter": "python",
      "pygments_lexer": "ipython2",
      "version": "2.7.6"
    },
    "pycharm": {
      "stem_cell": {
        "cell_type": "raw",
        "source": [],
        "metadata": {
          "collapsed": false
        }
      }
    },
    "colab": {
      "name": "main_ap.ipynb",
      "provenance": [],
      "collapsed_sections": []
    }
  },
  "cells": [
    {
      "cell_type": "code",
      "metadata": {
        "id": "N3fvrzlNHrOC",
        "colab": {
          "base_uri": "https://localhost:8080/"
        },
        "outputId": "7dc523c5-f3d0-4793-d0d6-54a0b3909806"
      },
      "source": [
        "!git clone https://github.com/AlinaGalenina/ML_HOMEWORK3.git\n",
        "!wget https://snap.stanford.edu/data/loc-gowalla_edges.txt.gz\n",
        "!wget  https://snap.stanford.edu/data/loc-gowalla_totalCheckins.txt.gz"
      ],
      "execution_count": 1,
      "outputs": [
        {
          "output_type": "stream",
          "text": [
            "Cloning into 'ML_HOMEWORK3'...\n",
            "remote: Enumerating objects: 16, done.\u001b[K\n",
            "remote: Counting objects: 100% (16/16), done.\u001b[K\n",
            "remote: Compressing objects: 100% (14/14), done.\u001b[K\n",
            "remote: Total 16 (delta 1), reused 15 (delta 0), pack-reused 0\u001b[K\n",
            "Unpacking objects: 100% (16/16), done.\n",
            "--2020-11-23 16:38:02--  https://snap.stanford.edu/data/loc-gowalla_edges.txt.gz\n",
            "Resolving snap.stanford.edu (snap.stanford.edu)... 171.64.75.80\n",
            "Connecting to snap.stanford.edu (snap.stanford.edu)|171.64.75.80|:443... connected.\n",
            "HTTP request sent, awaiting response... 200 OK\n",
            "Length: 6351523 (6.1M) [application/x-gzip]\n",
            "Saving to: ‘loc-gowalla_edges.txt.gz’\n",
            "\n",
            "loc-gowalla_edges.t 100%[===================>]   6.06M  1.80MB/s    in 5.1s    \n",
            "\n",
            "2020-11-23 16:38:08 (1.18 MB/s) - ‘loc-gowalla_edges.txt.gz’ saved [6351523/6351523]\n",
            "\n",
            "--2020-11-23 16:38:08--  https://snap.stanford.edu/data/loc-gowalla_totalCheckins.txt.gz\n",
            "Resolving snap.stanford.edu (snap.stanford.edu)... 171.64.75.80\n",
            "Connecting to snap.stanford.edu (snap.stanford.edu)|171.64.75.80|:443... connected.\n",
            "HTTP request sent, awaiting response... 200 OK\n",
            "Length: 105470044 (101M) [application/x-gzip]\n",
            "Saving to: ‘loc-gowalla_totalCheckins.txt.gz’\n",
            "\n",
            "loc-gowalla_totalCh 100%[===================>] 100.58M  15.4MB/s    in 13s     \n",
            "\n",
            "2020-11-23 16:38:21 (8.00 MB/s) - ‘loc-gowalla_totalCheckins.txt.gz’ saved [105470044/105470044]\n",
            "\n"
          ],
          "name": "stdout"
        }
      ]
    },
    {
      "cell_type": "code",
      "metadata": {
        "pycharm": {
          "name": "#%%\n"
        },
        "id": "FcguzIOMfz9l"
      },
      "source": [
        "!gunzip loc-gowalla_edges.txt.gz\n",
        "!gunzip loc-gowalla_totalCheckins.txt.gz"
      ],
      "execution_count": 2,
      "outputs": []
    },
    {
      "cell_type": "code",
      "metadata": {
        "pycharm": {
          "name": "#%%\n"
        },
        "id": "b73EZcPLfz9r"
      },
      "source": [
        "from ML_HOMEWORK3.src.ap_core import Ap\n",
        "from ML_HOMEWORK3.src.ap_data import load_edges, load_checkins\n",
        "import numpy as np\n",
        "from tqdm import tqdm\n",
        "\n",
        "ds_path = \"loc-gowalla_edges.txt\"\n",
        "chk_path = \"loc-gowalla_totalCheckins.txt\""
      ],
      "execution_count": 3,
      "outputs": []
    },
    {
      "cell_type": "code",
      "metadata": {
        "id": "dG7Pg2PQK8UP"
      },
      "source": [
        "def get_intersect(gt, pred):\n",
        "    gt = set(gt)\n",
        "    pred = set(pred)\n",
        "    return len(gt.intersection(pred))\n",
        "\n",
        "\n",
        "csr_ds = load_edges(ds_path)\n",
        "checkins_train, checkins_test = load_checkins(chk_path)"
      ],
      "execution_count": 7,
      "outputs": []
    },
    {
      "cell_type": "code",
      "metadata": {
        "pycharm": {
          "name": "#%%\n",
          "is_executing": false
        },
        "id": "zXiyFZUFHevZ",
        "colab": {
          "base_uri": "https://localhost:8080/"
        },
        "outputId": "e1fa87e1-eca0-4ead-861d-17b6c59f0147"
      },
      "source": [
        "ap = Ap()\n",
        "ap.fit(csr_ds, 10)"
      ],
      "execution_count": 5,
      "outputs": [
        {
          "output_type": "stream",
          "text": [
            "100%|██████████| 10/10 [02:27<00:00, 14.73s/it]\n"
          ],
          "name": "stderr"
        }
      ]
    },
    {
      "cell_type": "code",
      "metadata": {
        "pycharm": {
          "name": "#%%\n",
          "is_executing": false
        },
        "id": "GMOch5FuHevg",
        "colab": {
          "base_uri": "https://localhost:8080/"
        },
        "outputId": "37d28661-f00f-44e2-e83e-3ba90df1d3de"
      },
      "source": [
        "topn_base = ap.predict(checkins_train)\n",
        "cluster_prec = 0\n",
        "base_prec = 0\n",
        "norm = len(np.unique(checkins_test.user_id)) * 10\n",
        "for user_id in tqdm(np.unique(checkins_test.user_id)):\n",
        "    gt_locs = checkins_test.loc[checkins_test.user_id == user_id, \"location_id\"].values\n",
        "    if user_id in checkins_train.user_id:\n",
        "        train_locs = ap.predict(checkins_train, user_id)\n",
        "        cluster_prec += get_intersect(gt_locs, train_locs)\n",
        "        base_prec += get_intersect(gt_locs, topn_base)\n",
        "        # test_locs = ap.predict(checkins_test, user_id)\n",
        "\n"
      ],
      "execution_count": 8,
      "outputs": [
        {
          "output_type": "stream",
          "text": [
            "100%|██████████| 1071/1071 [00:10<00:00, 105.91it/s]\n"
          ],
          "name": "stderr"
        }
      ]
    },
    {
      "cell_type": "code",
      "metadata": {
        "pycharm": {
          "name": "#%%\n",
          "is_executing": false
        },
        "id": "cWyIHtimHevo",
        "colab": {
          "base_uri": "https://localhost:8080/"
        },
        "outputId": "ba2d72e2-0740-4a14-9e59-a3d575077155"
      },
      "source": [
        "print(f\"Base AP {base_prec/norm}\")\n",
        "print(f\"Cluster AP {cluster_prec/norm}\")\n"
      ],
      "execution_count": 9,
      "outputs": [
        {
          "output_type": "stream",
          "text": [
            "Base AP 0.013445378151260505\n",
            "Cluster AP 0.2859943977591036\n"
          ],
          "name": "stdout"
        }
      ]
    }
  ]
}